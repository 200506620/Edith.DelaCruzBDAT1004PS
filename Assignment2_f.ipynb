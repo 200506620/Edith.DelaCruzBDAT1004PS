{
 "cells": [
  {
   "cell_type": "code",
   "execution_count": 4,
   "id": "974f6806",
   "metadata": {},
   "outputs": [],
   "source": [
    "'an example module'\n",
    "a=0\n",
    "def b():    \n",
    "    global a\n",
    "    a= c(a)\n",
    "    \n",
    "def c(a):\n",
    "    return a+2"
   ]
  },
  {
   "cell_type": "code",
   "execution_count": 5,
   "id": "f8b9254a",
   "metadata": {},
   "outputs": [
    {
     "data": {
      "text/plain": [
       "6"
      ]
     },
     "execution_count": 5,
     "metadata": {},
     "output_type": "execute_result"
    }
   ],
   "source": [
    "#after importing the module into the interpreter, you execute:\n",
    ">>> b()\n",
    ">>> b()\n",
    ">>> b()\n",
    ">>> a"
   ]
  },
  {
   "cell_type": "code",
   "execution_count": null,
   "id": "eaa32b01",
   "metadata": {},
   "outputs": [],
   "source": [
    "#Answer 1: \n",
    "#the valued displayed is 6 because a is defined as global scope in function b() \n",
    "#and all reference are to global a.\n",
    "#the first time function b() is executed the variable a displays 2, then a display 4,finally 6 \n",
    "#because a is defined as global in function b()."
   ]
  },
  {
   "cell_type": "code",
   "execution_count": 7,
   "id": "34838909",
   "metadata": {},
   "outputs": [
    {
     "name": "stdout",
     "output_type": "stream",
     "text": [
      "File  midterm.py not found\n"
     ]
    }
   ],
   "source": [
    "#Question 2\n",
    "#Function fileLength(), given to you, takes the name of a file as input and returns\n",
    "#the length of the file:\n",
    "    \n",
    "def file_length(file_name):\n",
    "    try:\n",
    "        file = open(file_name)\n",
    "        contents = file.read()\n",
    "        file.close()\n",
    "    except IOError:\n",
    "        print(f'File  {file_name} not found')\n",
    "\n",
    "file_length(\"midterm.py\")"
   ]
  },
  {
   "cell_type": "code",
   "execution_count": 9,
   "id": "2cc9a308",
   "metadata": {},
   "outputs": [
    {
     "name": "stdout",
     "output_type": "stream",
     "text": [
      "['doll', 'firetruck', 'kitten']\n"
     ]
    }
   ],
   "source": [
    "#Question 3\n",
    "#Write a class named Marsupial that can be used as shown below:\n",
    "#Answer\n",
    "class Marsupial():\n",
    "    \n",
    "    def __init__(self):\n",
    "       # xcoord = 1\n",
    "        #ycoord = 2\n",
    "        self.q= []\n",
    "        \n",
    "    def put_in_pouch(self,item):        \n",
    "        return self.q.append(item)\n",
    "    \n",
    "    def pouch_contents(self):\n",
    "        return self.q\n",
    "    \n",
    "m=Marsupial()\n",
    "m.put_in_pouch('doll')\n",
    "m.put_in_pouch('firetruck')\n",
    "m.put_in_pouch('kitten')\n",
    "\n",
    "print(m.pouch_contents())"
   ]
  },
  {
   "cell_type": "code",
   "execution_count": 10,
   "id": "b3ae1182",
   "metadata": {},
   "outputs": [
    {
     "name": "stdout",
     "output_type": "stream",
     "text": [
      "I am a kangaroo located at coordinates (0,0)\n",
      "['doll', 'firetruck', 'kitten']\n",
      "I am a kangaroo located at coordinates (1,1)\n",
      "I am a kangaroo located at coordinates (2,2)\n",
      "I am a kangaroo located at coordinates (3,3)\n",
      "<__main__.Kangaroo object at 0x000001D27E7ECF70>\n"
     ]
    }
   ],
   "source": [
    "#question3 Now write a class named Kangaroo as a subclass of Marsupial that inherits all the\n",
    "#attributes of Marsupial and also:\n",
    "#a. extends the Marsupial __init__ constructor to take, as input, the\n",
    "#coordinates x and y of the Kangaroo object,\n",
    "#b. supports method jump that takes number values dx and dy as input and\n",
    "#movesthe kangaroo by dx units along the x-axis and by dy units along the yaxis, and\n",
    "#c. overloads the __str__ operator so it behaves as shown below.\n",
    "\n",
    "#Answer 2\n",
    "\n",
    "class Marsupial():\n",
    "    \n",
    "    def __init__(self,xcoord,ycoord):\n",
    "        self.x = xcoord\n",
    "        self.y = ycoord\n",
    "        self.q= []\n",
    "        print(f'I am a kangaroo located at coordinates ({xcoord},{xcoord})')\n",
    "    def selfx(self,xcoord):\n",
    "        self.x = xcoord\n",
    "    def selfy(self,ycoord):\n",
    "        self.y = ycoord              \n",
    "    def put_in_pouch(self,item):        \n",
    "        return self.q.append(item)\n",
    "    \n",
    "    def pouch_contents(self):\n",
    "        return self.q\n",
    "    \n",
    "class Kangaroo(Marsupial):    \n",
    "    def jump(self,dx,dy):\n",
    "        self.x += dx\n",
    "        self.y += dy\n",
    "        #return f'Kangaroo({self.x},{self.y})'\n",
    "        return Kangaroo(self.x,self.y)\n",
    "    \n",
    "k=Kangaroo(0,0)\n",
    "k.put_in_pouch(\"doll\")\n",
    "k.put_in_pouch(\"firetruck\")\n",
    "k.put_in_pouch(\"kitten\")\n",
    "#print(k)\n",
    "print(k.pouch_contents())\n",
    "k.jump(1,0)\n",
    "k.jump(1,0)\n",
    "k.jump(1,0)\n",
    "print(k)\n"
   ]
  },
  {
   "cell_type": "code",
   "execution_count": 1,
   "id": "4b38b29b",
   "metadata": {},
   "outputs": [
    {
     "name": "stdout",
     "output_type": "stream",
     "text": [
      "5.0\n",
      "16.0\n",
      "8.0\n",
      "4.0\n",
      "2.0\n",
      "1.0\n"
     ]
    }
   ],
   "source": [
    "#Question 4\n",
    "#Write function collatz() that takes a positive integer x as input and prints the\n",
    "#Collatz sequence starting at x. A Collatz sequence is obtained by repeatedly applying\n",
    "#this rule to the previous number x in the sequence:\n",
    "#x = {\n",
    "#𝑥/2 𝑖𝑓 𝑥 𝑖𝑠 𝑒𝑣𝑒𝑛3𝑥\n",
    "#+1 𝑖𝑓 𝑥 𝑖𝑠 𝑜𝑑𝑑\n",
    "#Your function should stop when the sequence gets to number 1. Your\n",
    "#implementation must be recursive, without any loops.\n",
    "def Collatz(number):   \n",
    "    if(number!=1):\n",
    "        if(number%2==0):\n",
    "            print(number/2)\n",
    "            Collatz(number/2)\n",
    "            \n",
    "        else:    \n",
    "            print(number*3+1)\n",
    "            Collatz(number*3+1)             \n",
    "    \n",
    "        \n",
    "Collatz(10)"
   ]
  },
  {
   "cell_type": "code",
   "execution_count": 2,
   "id": "da75501a",
   "metadata": {},
   "outputs": [
    {
     "data": {
      "text/plain": [
       "'1001'"
      ]
     },
     "execution_count": 2,
     "metadata": {},
     "output_type": "execute_result"
    }
   ],
   "source": [
    "#Question 5\n",
    "#Write a recursive method binary() that takes a non-negative\n",
    "#integer n and prints the binary representation of integer n.\n",
    "b=''\n",
    "def binary(number):   \n",
    "    global b   \n",
    "    if(number==1):\n",
    "        b=b+'1'\n",
    "        return b\n",
    "    else:    \n",
    "        if(number==0):\n",
    "            b=b+'0'\n",
    "            return b\n",
    "        else:\n",
    "            if(number%2==0):\n",
    "                b=b+'0'\n",
    "                binary(number//2)\n",
    "\n",
    "            else:    \n",
    "                b=b+'1'\n",
    "                binary(number//2)\n",
    "    \n",
    "            return b\n",
    "        \n",
    "binary(9)"
   ]
  },
  {
   "cell_type": "code",
   "execution_count": 13,
   "id": "4a6d98db",
   "metadata": {},
   "outputs": [
    {
     "name": "stdout",
     "output_type": "stream",
     "text": [
      "\n",
      "\n",
      "\n",
      "\n",
      "\n",
      "\n",
      "  \n",
      "('name', 'description')\n",
      "('content', 'Webpage description goes here')\n",
      "\n",
      "  \n",
      "('charset', 'utf-8')\n",
      "\n",
      "  \n",
      "Change_me\n",
      "\n",
      "  \n",
      "('name', 'viewport')\n",
      "('content', 'width=device-width, initial-scale=1')\n",
      "\n",
      "  \n",
      "('name', 'author')\n",
      "('content', '')\n",
      "\n",
      "  \n",
      "\n",
      "\n",
      "\n",
      "\n",
      "\n",
      "\n",
      "  \n",
      "\t\n",
      "W3C Mission\n",
      "\n",
      "\t\n",
      "Principles\n",
      "\n",
      " \n",
      "\n",
      "\n",
      "\n",
      "\n",
      "\n"
     ]
    }
   ],
   "source": [
    "#Question 6\n",
    "#Implement a class named HeadingParser that can be used to parse an HTML\n",
    "#document, and retrieve and print all the headings in the document. You should\n",
    "#implement your class as a subclass of HTMLParser, defined in Standard Library\n",
    "#module html.parser. When fed a string containing HTML code, your class should\n",
    "#print the headings, one per line and in the order in which they appear in the\n",
    "#document.Each heading should be indented asfollows: an h1 heading should have\n",
    "#indentation 0, and h2 heading should have indentation 1, etc. Test your\n",
    "#implementation using w3c.html.\n",
    "from html.parser import HTMLParser\n",
    "lst=[]\n",
    "class HeadingParser(HTMLParser):\n",
    "    def handle_starttag(self, tag, attrs):\n",
    "          if tag == 'meta':\n",
    "            #search for href attribute and print its value\n",
    "            for attr in attrs:\n",
    "              #  if attr[0]== 'href':\n",
    "                 print(attr)\n",
    "    def handle_data(self, data):\n",
    "               \n",
    "               print(data)\n",
    "        \n",
    "infile=open(\"w3c.html\")\n",
    "content=infile.read()\n",
    "infile.close()\n",
    "parser=HeadingParser()\n",
    "parser.feed(content)\n",
    "#parser.handdle_starttag('head',content)"
   ]
  },
  {
   "cell_type": "code",
   "execution_count": 22,
   "id": "62ae06d3",
   "metadata": {},
   "outputs": [],
   "source": [
    "#Question 7\n",
    "#Implement recursive function webdir() that takes as input: a URL (as a string) and\n",
    "#non-negative integers depth and indent. Your function should visit every web\n",
    "#page reachable from the starting URL web page in depth clicks or less, and print\n",
    "#each web page's URL. As shown below, indentation, specified by indent, should\n",
    "#be used to indicate the depth of a URL.\n",
    "\n",
    "from urllib import request\n",
    "from urllib.parse import urljoin\n",
    "from html.parser import HTMLParser\n",
    "\n",
    "class Collector(HTMLParser):\n",
    "        \n",
    "        def __init__(self):\n",
    "            \n",
    "            HTMLParser.__init__(self)\n",
    "            self.url=url\n",
    "            self.links=[]\n",
    "            \n",
    "        def handle_starttag(self,tag,attrs):\n",
    "           \n",
    "            if tag == 'a':\n",
    "            #search for href attribute and print its value\n",
    "                for attr in attrs:\n",
    "                       if attr[0]== 'href':\n",
    "                        absolute=urljoin(self.url,attr[1])\n",
    "                        if absolute[:4] == 'http':\n",
    "                            self.links.append(absolute) #collect links\n",
    "                            \n",
    "        def getlinks(self):\n",
    "            \n",
    "              return self.links\n",
    "\n",
    "url='https://www.w3.org/Consortium/mission'\n",
    "url2='https://open-stand.org/about-us/principles/'\n",
    "\n",
    "resource=urllib.request.urlopen(url)\n",
    "content=resource.read().decode()\n",
    "collector=Collector()\n",
    "collector.feed(content)\n",
    "collector.getlinks() "
   ]
  },
  {
   "cell_type": "code",
   "execution_count": 6,
   "id": "d7e49eab",
   "metadata": {},
   "outputs": [
    {
     "name": "stdout",
     "output_type": "stream",
     "text": [
      "('Mumbai', 'India', 'Winter', '24.8', '5.9')\n",
      "('Mumbai', 'India', 'Spring', '28.4', '16.2')\n",
      "('Mumbai', 'India', 'Summer', '27.9', '1549.4')\n",
      "('Mumbai', 'India', 'Fall', '27.6', '346')\n",
      "('London', 'United Kingdom', 'Winter', '4.2', '207.7')\n",
      "('London', 'United Kingdom', 'Spring', '8.3', '169.6')\n",
      "('London', 'United Kingdom', 'Summer', '15.7', '157')\n",
      "('London', 'United Kingdom', 'Fall', '10.4', '218.5')\n",
      "('Cairo', 'Egypt', 'Winter', '13.6', '16.5')\n",
      "('Cairo', 'Egypt', 'Spring', '20.7', '6.5')\n",
      "('Cairo', 'Egypt', 'Summer', '27.7', '0.1')\n",
      "('Cairo', 'Egypt', 'Fall', '22.2', '4.5')\n"
     ]
    }
   ],
   "source": [
    "#Question 8\n",
    "#Write SQL queries on the below database table that return:\n",
    "import sqlite3\n",
    "con=sqlite3.connect('model.db')\n",
    "cur=con.cursor()\n",
    "cur.execute('CREATE TABLE table2 (City,Country,Season,Temperature,Rainful)')\n",
    "cur.execute(\"INSERT INTO table2 VALUES ('Mumbai','India','Winter','24.8','5.9')\")\n",
    "cur.execute(\"INSERT INTO table2 VALUES ('Mumbai','India','Spring','28.4','16.2')\")\n",
    "cur.execute(\"INSERT INTO table2 VALUES ('Mumbai','India','Summer','27.9','1549.4')\")\n",
    "cur.execute(\"INSERT INTO table2 VALUES ('Mumbai','India','Fall','27.6','346')\")\n",
    "cur.execute(\"INSERT INTO table2 VALUES ('London','United Kingdom','Winter','4.2','207.7')\")\n",
    "cur.execute(\"INSERT INTO table2 VALUES ('London','United Kingdom','Spring','8.3','169.6')\")\n",
    "cur.execute(\"INSERT INTO table2 VALUES ('London','United Kingdom','Summer','15.7','157')\")\n",
    "cur.execute(\"INSERT INTO table2 VALUES ('London','United Kingdom','Fall','10.4','218.5')\")\n",
    "cur.execute(\"INSERT INTO table2 VALUES ('Cairo','Egypt','Winter','13.6','16.5')\")\n",
    "cur.execute(\"INSERT INTO table2 VALUES ('Cairo','Egypt','Spring','20.7','6.5')\")\n",
    "cur.execute(\"INSERT INTO table2 VALUES ('Cairo','Egypt','Summer','27.7','0.1')\")\n",
    "cur.execute(\"INSERT INTO table2 VALUES ('Cairo','Egypt','Fall','22.2','4.5')\")\n",
    "\n",
    "cur.execute(\"select * from table2\")\n",
    "for record in cur:\n",
    "    print(record)"
   ]
  },
  {
   "cell_type": "code",
   "execution_count": 7,
   "id": "4f8084ec",
   "metadata": {},
   "outputs": [
    {
     "name": "stdout",
     "output_type": "stream",
     "text": [
      "#Answer #a\n",
      "('24.8',)\n",
      "('28.4',)\n",
      "('27.9',)\n",
      "('27.6',)\n",
      "('4.2',)\n",
      "('8.3',)\n",
      "('15.7',)\n",
      "('10.4',)\n",
      "('13.6',)\n",
      "('20.7',)\n",
      "('27.7',)\n",
      "('22.2',)\n",
      "#Answer #b\n",
      "('Mumbai',)\n",
      "('London',)\n",
      "('Cairo',)\n",
      "#Answer #c\n",
      "('Mumbai', 'India', 'Winter', '24.8', '5.9')\n",
      "('Mumbai', 'India', 'Spring', '28.4', '16.2')\n",
      "('Mumbai', 'India', 'Summer', '27.9', '1549.4')\n",
      "('Mumbai', 'India', 'Fall', '27.6', '346')\n",
      "#Answer #d\n",
      "('Mumbai', 'India', 'Fall', '27.6', '346')\n",
      "('London', 'United Kingdom', 'Fall', '10.4', '218.5')\n",
      "('Cairo', 'Egypt', 'Fall', '22.2', '4.5')\n",
      "#Answer #e\n",
      "('Mumbai', 'India', 'Winter')\n",
      "#Answer #f\n",
      "('Mumbai', 'India', '27.6')\n",
      "#Answer #g\n",
      "('Fall', 4.5)\n",
      "('Spring', 6.5)\n",
      "('Summer', 0.1)\n",
      "('Winter', 16.5)\n",
      "#Answer #h\n",
      "('Fall', 569.0)\n",
      "('Spring', 192.29999999999998)\n",
      "('Summer', 1706.5)\n",
      "('Winter', 230.1)\n"
     ]
    }
   ],
   "source": [
    "#a) All the temperature data.\n",
    "print('#Answer #a')\n",
    "cur.execute(\"select temperature from table2 \")\n",
    "for record in cur:\n",
    "    print(record)\n",
    "#b) All the cities, but without repetition.\n",
    "print('#Answer #b')\n",
    "cur.execute(\"select distinct city from table2 \")\n",
    "for record in cur:\n",
    "    print(record)\n",
    "#c) All the records for India.\n",
    "print('#Answer #c')\n",
    "cur.execute(\"select * from table2 where country='India'\")\n",
    "for record in cur:\n",
    "    print(record)\n",
    "#d) All the Fall records.\n",
    "print('#Answer #d')\n",
    "cur.execute(\"select * from table2 where Season='Fall'\")\n",
    "for record in cur:\n",
    "    print(record)\n",
    "#e) The city, country, and season for which the average rainfall is between 200 \n",
    "#and 400 millimeters.\n",
    "print('#Answer #e')\n",
    "cur.execute(\"select city,country,season from (select city,country,season,AVG(CAST(Rainful AS numeric)) AS average_rainful from table2) y where average_rainful between 200 and 400\")\n",
    "for record in cur:\n",
    "    print(record)\n",
    "#f) The city and country for which the average Fall temperature is above 20\n",
    "#degrees, in increasing temperature order.\n",
    "print('#Answer #f')\n",
    "cur.execute(\"select city,country,temperature from (select city,country,season,temperature,AVG(CAST(temperature AS numeric)) AS avg_temp from table2 where season='Fall') y where avg_temp>20 order by temperature \")\n",
    "for record in cur:\n",
    "    print(record)\n",
    "#g) The total annual rainfall for Cairo.\n",
    "print('#Answer #g')\n",
    "cur.execute(\"select season,sum(Rainful) from table2 where city='Cairo' group by season \")\n",
    "for record in cur:\n",
    "    print(record)\n",
    "\n",
    "#h) The total rainfall for each season\n",
    "print('#Answer #h')\n",
    "cur.execute(\"select season,sum(Rainful) from table2   group by season \")\n",
    "for record in cur:\n",
    "    print(record)"
   ]
  },
  {
   "cell_type": "code",
   "execution_count": 11,
   "id": "e81f1001",
   "metadata": {},
   "outputs": [
    {
     "data": {
      "text/plain": [
       "[[[('QUICK', 5, 'quick')]],\n",
       " [[('BROWN', 5, 'brown')]],\n",
       " [[('JUMPS', 5, 'jumps')]],\n",
       " [[('OVER', 4, 'over')]],\n",
       " [[('LAZY', 4, 'lazy')]]]"
      ]
     },
     "execution_count": 11,
     "metadata": {},
     "output_type": "execute_result"
    }
   ],
   "source": [
    "#Question 9\n",
    "#. Suppose list words is defined as follows:\n",
    "#>>> words = ['The', 'quick', 'brown', 'fox', 'jumps', 'over',\n",
    "#'the', 'lazy', 'dog']\n",
    "\n",
    "#a) ['THE', 'QUICK', 'BROWN', 'FOX', 'JUMPS', 'OVER', 'THE',\n",
    "#'LAZY', 'DOG']\n",
    "words = ['The', 'quick', 'brown', 'fox', 'jumps', 'over','the', 'lazy', 'dog']\n",
    "newlines1=[line.upper() for line in words]\n",
    "newlines1\n",
    "#newlines=[line[:-1] for line in words]\n",
    "#newlines\n",
    "\n",
    "#b) ['the', 'quick', 'brown', 'fox', 'jumps', 'over', 'the',\n",
    "#'lazy', 'dog']\n",
    "words2 = ['THE', 'QUICK', 'BROWN', 'FOX', 'JUMPS', 'OVER', 'THE','LAZY', 'DOG']\n",
    "newlines2=[line.lower() for line in words2]\n",
    "newlines2\n",
    "\n",
    "#c) [3, 5, 5, 3, 5, 4, 3, 4, 3] (the list of lengths of words in list\n",
    "#words).\n",
    "words3 = ['The', 'quick', 'brown', 'fox', 'jumps', 'over','the', 'lazy', 'dog']\n",
    "newlines3=[len(line) for line in words3]\n",
    "newlines3\n",
    "\n",
    "#d) [['THE', 'the', 3], ['QUICK', 'quick', 5], ['BROWN',\n",
    "#'brown', 5], ['FOX', 'fox', 3], ['JUMPS', 'jumps', 5],\n",
    "\n",
    "#['OVER', 'over', 4], ['THE', 'the', 3], ['LAZY', 'lazy',\n",
    "#4], ['DOG', 'dog', 3]] (the list containing a list for every word of list\n",
    "#words, where each list contains the word in uppercase and lowercase and the\n",
    "#length of the word.)\n",
    "words4 = ['The', 'quick', 'brown', 'fox', 'jumps', 'over','the', 'lazy', 'dog']\n",
    "newlines4=[[[(line.upper(),len(i),line2) for line2 in words4 if line==line2] for line in words4 if line==i] for i in words4]\n",
    "newlines4\n",
    "\n",
    "#e) ['The', 'quick', 'brown', 'fox', 'jumps', 'over', 'the',\n",
    "#'lazy', 'dog'] (the list of words in list words containing 4 or more\n",
    "#characters.)\n",
    "\n",
    "words4 = ['The', 'quick', 'brown', 'fox', 'jumps', 'over','the', 'lazy', 'dog']\n",
    "newlines5=[[[(line.upper(),len(i),line2) for line2 in words4 if line==line2 and len(line)>=4] for line in words4 if line==i and len(line)>=4] for i in words4 if len(i)>=4]\n",
    "newlines5"
   ]
  }
 ],
 "metadata": {
  "kernelspec": {
   "display_name": "Python 3 (ipykernel)",
   "language": "python",
   "name": "python3"
  },
  "language_info": {
   "codemirror_mode": {
    "name": "ipython",
    "version": 3
   },
   "file_extension": ".py",
   "mimetype": "text/x-python",
   "name": "python",
   "nbconvert_exporter": "python",
   "pygments_lexer": "ipython3",
   "version": "3.9.12"
  }
 },
 "nbformat": 4,
 "nbformat_minor": 5
}
