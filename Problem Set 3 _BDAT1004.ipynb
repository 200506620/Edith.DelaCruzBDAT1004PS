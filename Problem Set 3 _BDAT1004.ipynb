{
 "cells": [
  {
   "cell_type": "code",
   "execution_count": null,
   "id": "478146fa",
   "metadata": {},
   "outputs": [],
   "source": [
    "#Question 1\n",
    "#Introduction:\n",
    "#Special thanks to: https://github.com/justmarkham for sharing the dataset and\n",
    "#materials.\n",
    "#Occupations\n",
    "#Step 1. Import the necessary libraries\n",
    "#Step 2. Import the dataset from this address.\n",
    "#Step 3. Assign it to a variable called users\n",
    "#Step 4. Discover what is the mean age per occupation\n",
    "#Step 5. Discover the Male ratio per occupation and sort it from the most to the least\n",
    "#Step 6. For each occupation, calculate the minimum and maximum ages\n",
    "#Step 7. For each combination of occupation and sex, calculate the mean age\n",
    "#Step 8. For each occupation present the percentage of women and men"
   ]
  },
  {
   "cell_type": "code",
   "execution_count": 29,
   "id": "0311715e",
   "metadata": {},
   "outputs": [
    {
     "name": "stderr",
     "output_type": "stream",
     "text": [
      "C:\\Users\\editd\\anaconda3\\lib\\site-packages\\IPython\\core\\interactiveshell.py:3369: FutureWarning: In a future version of pandas all arguments of read_csv except for the argument 'filepath_or_buffer' will be keyword-only.\n",
      "  exec(code_obj, self.user_global_ns, self.user_ns)\n"
     ]
    },
    {
     "data": {
      "text/html": [
       "<div>\n",
       "<style scoped>\n",
       "    .dataframe tbody tr th:only-of-type {\n",
       "        vertical-align: middle;\n",
       "    }\n",
       "\n",
       "    .dataframe tbody tr th {\n",
       "        vertical-align: top;\n",
       "    }\n",
       "\n",
       "    .dataframe thead th {\n",
       "        text-align: right;\n",
       "    }\n",
       "</style>\n",
       "<table border=\"1\" class=\"dataframe\">\n",
       "  <thead>\n",
       "    <tr style=\"text-align: right;\">\n",
       "      <th></th>\n",
       "      <th>user_id</th>\n",
       "      <th>age</th>\n",
       "    </tr>\n",
       "  </thead>\n",
       "  <tbody>\n",
       "    <tr>\n",
       "      <th>count</th>\n",
       "      <td>943.000000</td>\n",
       "      <td>943.000000</td>\n",
       "    </tr>\n",
       "    <tr>\n",
       "      <th>mean</th>\n",
       "      <td>472.000000</td>\n",
       "      <td>34.051962</td>\n",
       "    </tr>\n",
       "    <tr>\n",
       "      <th>std</th>\n",
       "      <td>272.364951</td>\n",
       "      <td>12.192740</td>\n",
       "    </tr>\n",
       "    <tr>\n",
       "      <th>min</th>\n",
       "      <td>1.000000</td>\n",
       "      <td>7.000000</td>\n",
       "    </tr>\n",
       "    <tr>\n",
       "      <th>25%</th>\n",
       "      <td>236.500000</td>\n",
       "      <td>25.000000</td>\n",
       "    </tr>\n",
       "    <tr>\n",
       "      <th>50%</th>\n",
       "      <td>472.000000</td>\n",
       "      <td>31.000000</td>\n",
       "    </tr>\n",
       "    <tr>\n",
       "      <th>75%</th>\n",
       "      <td>707.500000</td>\n",
       "      <td>43.000000</td>\n",
       "    </tr>\n",
       "    <tr>\n",
       "      <th>max</th>\n",
       "      <td>943.000000</td>\n",
       "      <td>73.000000</td>\n",
       "    </tr>\n",
       "  </tbody>\n",
       "</table>\n",
       "</div>"
      ],
      "text/plain": [
       "          user_id         age\n",
       "count  943.000000  943.000000\n",
       "mean   472.000000   34.051962\n",
       "std    272.364951   12.192740\n",
       "min      1.000000    7.000000\n",
       "25%    236.500000   25.000000\n",
       "50%    472.000000   31.000000\n",
       "75%    707.500000   43.000000\n",
       "max    943.000000   73.000000"
      ]
     },
     "execution_count": 29,
     "metadata": {},
     "output_type": "execute_result"
    }
   ],
   "source": [
    "#Question 1\n",
    "import pandas as pd\n",
    "import time\n",
    "import datetime \n",
    "\n",
    "#Step 1. Import the necessary libraries\n",
    "#Step 2. Import the dataset from this address.\n",
    "\n",
    "#Step 3. Assign it to a variable called users\n",
    "users = pd.read_csv('https://raw.githubusercontent.com/justmarkham/DAT8/master/data/u.user','|')\n",
    "\n",
    "\n",
    "users.head()\n",
    "\n",
    "#Step 4. Discover what is the mean age per occupation\n",
    "\n",
    "users['age'].mean()\n",
    "\n",
    "#Step 5. Discover the Male ratio per occupation and sort it from the most to the least\n",
    "users_indexed = users.set_index(['gender','occupation'])\n",
    "users_indexed.head()\n",
    "users_indexed.loc['M']\n",
    "#Step 6. For each occupation, calculate the minimum and maximum ages\n",
    "users.describe()\n",
    "#Step 7. For each combination of occupation and sex, calculate the mean age\n",
    "users_indexed = users.set_index(['gender','occupation'])\n",
    "users_indexed.describe()\n",
    "#Step 8. For each occupation present the percentage of women and men\n",
    "\n",
    "users_indexed2 = users.set_index(['occupation'])\n",
    "users_indexed2.describe()"
   ]
  },
  {
   "cell_type": "code",
   "execution_count": 67,
   "id": "ddc17882",
   "metadata": {
    "scrolled": true
   },
   "outputs": [
    {
     "name": "stdout",
     "output_type": "stream",
     "text": [
      "35\n"
     ]
    },
    {
     "data": {
      "text/html": [
       "<div>\n",
       "<style scoped>\n",
       "    .dataframe tbody tr th:only-of-type {\n",
       "        vertical-align: middle;\n",
       "    }\n",
       "\n",
       "    .dataframe tbody tr th {\n",
       "        vertical-align: top;\n",
       "    }\n",
       "\n",
       "    .dataframe thead th {\n",
       "        text-align: right;\n",
       "    }\n",
       "</style>\n",
       "<table border=\"1\" class=\"dataframe\">\n",
       "  <thead>\n",
       "    <tr style=\"text-align: right;\">\n",
       "      <th></th>\n",
       "      <th>Team</th>\n",
       "      <th>Goals</th>\n",
       "      <th>Shots on target</th>\n",
       "      <th>Shots off target</th>\n",
       "      <th>Shooting Accuracy</th>\n",
       "      <th>% Goals-to-shots</th>\n",
       "      <th>Total shots (inc. Blocked)</th>\n",
       "    </tr>\n",
       "  </thead>\n",
       "  <tbody>\n",
       "    <tr>\n",
       "      <th>0</th>\n",
       "      <td>Croatia</td>\n",
       "      <td>4</td>\n",
       "      <td>13</td>\n",
       "      <td>12</td>\n",
       "      <td>51.9%</td>\n",
       "      <td>16.0%</td>\n",
       "      <td>32</td>\n",
       "    </tr>\n",
       "    <tr>\n",
       "      <th>1</th>\n",
       "      <td>Czech Republic</td>\n",
       "      <td>4</td>\n",
       "      <td>13</td>\n",
       "      <td>18</td>\n",
       "      <td>41.9%</td>\n",
       "      <td>12.9%</td>\n",
       "      <td>39</td>\n",
       "    </tr>\n",
       "    <tr>\n",
       "      <th>2</th>\n",
       "      <td>Denmark</td>\n",
       "      <td>4</td>\n",
       "      <td>10</td>\n",
       "      <td>10</td>\n",
       "      <td>50.0%</td>\n",
       "      <td>20.0%</td>\n",
       "      <td>27</td>\n",
       "    </tr>\n",
       "    <tr>\n",
       "      <th>3</th>\n",
       "      <td>England</td>\n",
       "      <td>5</td>\n",
       "      <td>11</td>\n",
       "      <td>18</td>\n",
       "      <td>50.0%</td>\n",
       "      <td>17.2%</td>\n",
       "      <td>40</td>\n",
       "    </tr>\n",
       "    <tr>\n",
       "      <th>4</th>\n",
       "      <td>France</td>\n",
       "      <td>3</td>\n",
       "      <td>22</td>\n",
       "      <td>24</td>\n",
       "      <td>37.9%</td>\n",
       "      <td>6.5%</td>\n",
       "      <td>65</td>\n",
       "    </tr>\n",
       "    <tr>\n",
       "      <th>5</th>\n",
       "      <td>Germany</td>\n",
       "      <td>10</td>\n",
       "      <td>32</td>\n",
       "      <td>32</td>\n",
       "      <td>47.8%</td>\n",
       "      <td>15.6%</td>\n",
       "      <td>80</td>\n",
       "    </tr>\n",
       "    <tr>\n",
       "      <th>6</th>\n",
       "      <td>Greece</td>\n",
       "      <td>5</td>\n",
       "      <td>8</td>\n",
       "      <td>18</td>\n",
       "      <td>30.7%</td>\n",
       "      <td>19.2%</td>\n",
       "      <td>32</td>\n",
       "    </tr>\n",
       "    <tr>\n",
       "      <th>7</th>\n",
       "      <td>Italy</td>\n",
       "      <td>6</td>\n",
       "      <td>34</td>\n",
       "      <td>45</td>\n",
       "      <td>43.0%</td>\n",
       "      <td>7.5%</td>\n",
       "      <td>110</td>\n",
       "    </tr>\n",
       "    <tr>\n",
       "      <th>8</th>\n",
       "      <td>Netherlands</td>\n",
       "      <td>2</td>\n",
       "      <td>12</td>\n",
       "      <td>36</td>\n",
       "      <td>25.0%</td>\n",
       "      <td>4.1%</td>\n",
       "      <td>60</td>\n",
       "    </tr>\n",
       "    <tr>\n",
       "      <th>9</th>\n",
       "      <td>Poland</td>\n",
       "      <td>2</td>\n",
       "      <td>15</td>\n",
       "      <td>23</td>\n",
       "      <td>39.4%</td>\n",
       "      <td>5.2%</td>\n",
       "      <td>48</td>\n",
       "    </tr>\n",
       "    <tr>\n",
       "      <th>10</th>\n",
       "      <td>Portugal</td>\n",
       "      <td>6</td>\n",
       "      <td>22</td>\n",
       "      <td>42</td>\n",
       "      <td>34.3%</td>\n",
       "      <td>9.3%</td>\n",
       "      <td>82</td>\n",
       "    </tr>\n",
       "    <tr>\n",
       "      <th>11</th>\n",
       "      <td>Republic of Ireland</td>\n",
       "      <td>1</td>\n",
       "      <td>7</td>\n",
       "      <td>12</td>\n",
       "      <td>36.8%</td>\n",
       "      <td>5.2%</td>\n",
       "      <td>28</td>\n",
       "    </tr>\n",
       "    <tr>\n",
       "      <th>12</th>\n",
       "      <td>Russia</td>\n",
       "      <td>5</td>\n",
       "      <td>9</td>\n",
       "      <td>31</td>\n",
       "      <td>22.5%</td>\n",
       "      <td>12.5%</td>\n",
       "      <td>59</td>\n",
       "    </tr>\n",
       "    <tr>\n",
       "      <th>13</th>\n",
       "      <td>Spain</td>\n",
       "      <td>12</td>\n",
       "      <td>42</td>\n",
       "      <td>33</td>\n",
       "      <td>55.9%</td>\n",
       "      <td>16.0%</td>\n",
       "      <td>100</td>\n",
       "    </tr>\n",
       "    <tr>\n",
       "      <th>14</th>\n",
       "      <td>Sweden</td>\n",
       "      <td>5</td>\n",
       "      <td>17</td>\n",
       "      <td>19</td>\n",
       "      <td>47.2%</td>\n",
       "      <td>13.8%</td>\n",
       "      <td>39</td>\n",
       "    </tr>\n",
       "    <tr>\n",
       "      <th>15</th>\n",
       "      <td>Ukraine</td>\n",
       "      <td>2</td>\n",
       "      <td>7</td>\n",
       "      <td>26</td>\n",
       "      <td>21.2%</td>\n",
       "      <td>6.0%</td>\n",
       "      <td>38</td>\n",
       "    </tr>\n",
       "  </tbody>\n",
       "</table>\n",
       "</div>"
      ],
      "text/plain": [
       "                   Team  Goals  Shots on target  Shots off target  \\\n",
       "0               Croatia      4               13                12   \n",
       "1        Czech Republic      4               13                18   \n",
       "2               Denmark      4               10                10   \n",
       "3               England      5               11                18   \n",
       "4                France      3               22                24   \n",
       "5               Germany     10               32                32   \n",
       "6                Greece      5                8                18   \n",
       "7                 Italy      6               34                45   \n",
       "8           Netherlands      2               12                36   \n",
       "9                Poland      2               15                23   \n",
       "10             Portugal      6               22                42   \n",
       "11  Republic of Ireland      1                7                12   \n",
       "12               Russia      5                9                31   \n",
       "13                Spain     12               42                33   \n",
       "14               Sweden      5               17                19   \n",
       "15              Ukraine      2                7                26   \n",
       "\n",
       "   Shooting Accuracy % Goals-to-shots  Total shots (inc. Blocked)  \n",
       "0              51.9%            16.0%                          32  \n",
       "1              41.9%            12.9%                          39  \n",
       "2              50.0%            20.0%                          27  \n",
       "3              50.0%            17.2%                          40  \n",
       "4              37.9%             6.5%                          65  \n",
       "5              47.8%            15.6%                          80  \n",
       "6              30.7%            19.2%                          32  \n",
       "7              43.0%             7.5%                         110  \n",
       "8              25.0%             4.1%                          60  \n",
       "9              39.4%             5.2%                          48  \n",
       "10             34.3%             9.3%                          82  \n",
       "11             36.8%             5.2%                          28  \n",
       "12             22.5%            12.5%                          59  \n",
       "13             55.9%            16.0%                         100  \n",
       "14             47.2%            13.8%                          39  \n",
       "15             21.2%             6.0%                          38  "
      ]
     },
     "execution_count": 67,
     "metadata": {},
     "output_type": "execute_result"
    }
   ],
   "source": [
    "#Question 2\n",
    "import pandas as pd\n",
    "\n",
    "#Euro Teams\n",
    "\n",
    "#Step 1. Import the necessary libraries\n",
    "#Step 2. Import the dataset from this address\n",
    "\n",
    "#Step 3. Assign it to a variable called euro12\n",
    "euro12 = pd.read_csv('Euro_2012_stats_TEAM.csv')\n",
    "\n",
    "euro12.head()\n",
    "#Step 4. Select only the Goal column\n",
    "\n",
    "euro12_indexed2 = euro12.set_index(['Goals'])\n",
    "euro12_indexed2.head()\n",
    "\n",
    "#Step 5. How many team participated in the Euro2012?\n",
    "euro12.groupby(['Team']).count()\n",
    "#Step 6. What is the number of columns in the dataset?\n",
    "print(len(euro12.columns))\n",
    "#Step 7. View only the columns Team, Yellow Cards and Red Cards and assign them\n",
    "#to a dataframe called discipline\n",
    "discipline = euro12.set_index(['Team','Yellow Cards','Red Cards'])\n",
    "#discipline.head()\n",
    "\n",
    "#Step 8. Sort the teams by Red Cards, then to Yellow Cards\n",
    "#euro12.sort_values(by=['Red Cars'],ascending=False,kind=\"mergesort\")\n",
    "#euro12.head()\n",
    "#Step 9. Calculate the mean Yellow Cards given per Team\n",
    "#euro12.describe()\n",
    "#Step 10. Filter teams that scored more than 6 goalsStep 11. Select the teams that start\n",
    "#with G\n",
    "#Step 12. Select the first 7 columns\n",
    "#euro12.head(10)\n",
    "euro12.iloc[:, : 7]\n",
    "#Step 13. Select all columns except the last 3\n",
    "\n",
    "#Step 14. Present only the Shooting Accuracy from England, Italy and Russia"
   ]
  },
  {
   "cell_type": "code",
   "execution_count": 74,
   "id": "561da351",
   "metadata": {},
   "outputs": [
    {
     "data": {
      "text/plain": [
       "0    1\n",
       "1    2\n",
       "2    3\n",
       "3    4\n",
       "4    5\n",
       "dtype: int32"
      ]
     },
     "execution_count": 74,
     "metadata": {},
     "output_type": "execute_result"
    }
   ],
   "source": [
    "import pandas as pd\n",
    "import numpy as np\n",
    "#Question 3\n",
    "#Housing\n",
    "#Step 1. Import the necessary libraries\n",
    "#Step 2. Create 3 differents Series, each of length 100, as follows:\n",
    "#• The first a random number from 1 to 4\n",
    "#• The second a random number from 1 to 3\n",
    "#• The third a random number from 10,000 to 30,000\n",
    "one_to_hundred = pd.RangeIndex(1, 101).to_series()\n",
    "one_to_hundred.head()\n",
    "num=np.arange(1,101)\n",
    "s = pd.Series(num)\n",
    "s.head()\n",
    "#Step 3. Create a DataFrame by joinning the Series by column\n",
    "#Step 4. Change the name of the columns to bedrs, bathrs, price_sqr_meter\n",
    "#Step 5. Create a one column DataFrame with the values of the 3 Series and assign it\n",
    "#to 'bigcolumn'\n",
    "#Step 6. Ops it seems it is going only until index 99. Is it true?\n",
    "#Step 7. Reindex the DataFrame so it goes from 0 to 299\n"
   ]
  },
  {
   "cell_type": "code",
   "execution_count": 23,
   "id": "bb216ecc",
   "metadata": {},
   "outputs": [
    {
     "name": "stderr",
     "output_type": "stream",
     "text": [
      "C:\\Users\\editd\\anaconda3\\lib\\site-packages\\IPython\\core\\interactiveshell.py:3369: FutureWarning: In a future version of pandas all arguments of read_csv except for the argument 'filepath_or_buffer' will be keyword-only.\n",
      "  exec(code_obj, self.user_global_ns, self.user_ns)\n",
      "C:\\Users\\editd\\anaconda3\\lib\\site-packages\\IPython\\core\\interactiveshell.py:3369: FutureWarning: In a future version of pandas all arguments of read_csv except for the argument 'filepath_or_buffer' will be keyword-only.\n",
      "  exec(code_obj, self.user_global_ns, self.user_ns)\n"
     ]
    },
    {
     "data": {
      "text/plain": [
       "<bound method NDFrame.describe of       Yr    Mo    Dy  Unnamed: 3  Unnamed: 4    RPT  Unnamed: 6  Unnamed: 7  \\\n",
       "0     61   NaN   1.0         NaN        1.00  15.04       14.96       13.17   \n",
       "1     61   NaN   1.0         NaN        2.00  14.71         NaN         NaN   \n",
       "2     61   NaN   1.0         NaN        3.00  18.50       16.88       12.33   \n",
       "3     61   NaN   1.0         NaN        4.00  10.58         NaN        6.63   \n",
       "4     61   NaN   1.0         NaN        5.00  13.33       13.25       11.42   \n",
       "...   ..   ...   ...         ...         ...    ...         ...         ...   \n",
       "6569  78  12.0  27.0       17.58       16.96  17.62         NaN        8.08   \n",
       "6570  78  12.0  28.0       13.21         NaN   5.46       13.46         NaN   \n",
       "6571  78  12.0  29.0       14.00       10.29  14.42         NaN        8.71   \n",
       "6572  78  12.0  30.0       18.50       14.04  21.29         NaN        9.13   \n",
       "6573  78  12.0  31.0       20.33       17.41  27.29         NaN        9.59   \n",
       "\n",
       "        VAL  Unnamed: 9  ...  MUL  Unnamed: 30  Unnamed: 31  CLO  Unnamed: 33  \\\n",
       "0       NaN        9.29  ...  NaN          NaN          NaN  NaN          NaN   \n",
       "1       NaN       10.83  ...  NaN          NaN          NaN  NaN          NaN   \n",
       "2     10.13       11.17  ...  NaN          NaN          NaN  NaN          NaN   \n",
       "3     11.75         NaN  ...  NaN          NaN          NaN  NaN          NaN   \n",
       "4       NaN        6.17  ...  NaN          NaN          NaN  NaN          NaN   \n",
       "...     ...         ...  ...  ...          ...          ...  ...          ...   \n",
       "6569  13.21       11.67  ...  NaN          NaN          NaN  NaN          NaN   \n",
       "6570   5.00         NaN  ...  NaN          NaN          NaN  NaN          NaN   \n",
       "6571    NaN        9.71  ...  NaN          NaN          NaN  NaN          NaN   \n",
       "6572  12.75         NaN  ...  NaN          NaN          NaN  NaN          NaN   \n",
       "6573  12.08       10.13  ...  NaN          NaN          NaN  NaN          NaN   \n",
       "\n",
       "      Unnamed: 34  BEL  Unnamed: 36  Unnamed: 37  MAL  \n",
       "0             NaN  NaN          NaN          NaN  NaN  \n",
       "1             NaN  NaN          NaN          NaN  NaN  \n",
       "2             NaN  NaN          NaN          NaN  NaN  \n",
       "3             NaN  NaN          NaN          NaN  NaN  \n",
       "4             NaN  NaN          NaN          NaN  NaN  \n",
       "...           ...  ...          ...          ...  ...  \n",
       "6569          NaN  NaN          NaN          NaN  NaN  \n",
       "6570          NaN  NaN          NaN          NaN  NaN  \n",
       "6571          NaN  NaN          NaN          NaN  NaN  \n",
       "6572          NaN  NaN          NaN          NaN  NaN  \n",
       "6573          NaN  NaN          NaN          NaN  NaN  \n",
       "\n",
       "[6574 rows x 39 columns]>"
      ]
     },
     "execution_count": 23,
     "metadata": {},
     "output_type": "execute_result"
    }
   ],
   "source": [
    "import pandas as pd\n",
    "#Question 4\n",
    "#Wind Statistics\n",
    "#The data have been modified to contain some missing values, identified by NaN.\n",
    "#Using pandas should make this exercise easier, in particular for the bonus question.\n",
    "#You should be able to perform all of these operations without using a for loop or\n",
    "#other looping construct.\n",
    "#The data in 'wind.data' has the follo3wing format:\n",
    "#Yr Mo Dy RPT VAL ROS KIL SHA BIR DUB CLA MUL CLO BEL\n",
    "#MAL\n",
    "#61 1 1 15.04 14.96 13.17 9.29 NaN 9.87 13.67 10.25 10.83 12.58 18.50 15.04\n",
    "#61 1 2 14.71 NaN 10.83 6.50 12.62 7.67 11.50 10.04 9.79 9.67 17.54 13.83\n",
    "#61 1 3 18.50 16.88 12.33 10.13 11.17 6.17 11.25 NaN 8.50 7.67 12.75 12.71\n",
    "\n",
    "#The first three columns are year, month, and day. The remaining 12 columns are\n",
    "#average windspeeds in knots at 12 locations in Ireland on that day.\n",
    "#Step 1. Import the necessary libraries\n",
    "#Step 2. Import the dataset from the attached file wind.txt\n",
    "\n",
    "data2 = pd.read_csv('wind.txt',' ')\n",
    "\n",
    "#data.head()\n",
    "#Step 3. Assign it to a variable called data and replace the first 3 columns by a proper\n",
    "#datetime index.\n",
    "\n",
    "\n",
    "data2.head()\n",
    "data2.iloc[:, : 3]\n",
    "#Step 4. Year 2061? Do we really have data from this year? Create a function to fix it\n",
    "#and apply it.\n",
    "data2.groupby(['Yr']).count()\n",
    "#Step 5. Set the right dates as the index. Pay attention at the data type, it should be\n",
    "#datetime64[ns].\n",
    "#Step 6. Compute how many values are missing for each location over the entire\n",
    "#record.They should be ignored in all calculations below.\n",
    "#Step 7. Compute how many non-missing values there are in total.\n",
    "#Step 8. Calculate the mean windspeeds of the windspeeds over all the locations and\n",
    "#all the times.\n",
    "#A single number for the entire dataset.\n",
    "#Step 9. Create a DataFrame called loc_stats and calculate the min, max and mean\n",
    "#windspeeds and standard deviations of the windspeeds at each location over all the\n",
    "#days\n",
    "#A different set of numbers for each location.\n",
    "\n",
    "data3=pd.read_csv('wind.txt',' ')\n",
    "\n",
    "#oc_stats['loc_stats'].mean()\n",
    "data3.describe\n",
    "#Step 10. Create a DataFrame called day_stats and calculate the min, max and mean\n",
    "#windspeed and standard deviations of the windspeeds across all the locations at each\n",
    "#day.\n",
    "#A different set of numbers for each day.\n",
    "#Step 11. Find the average windspeed in January for each location.\n",
    "#Treat January 1961 and January 1962 both as January.\n",
    "#Step 12. Downsample the record to a yearly frequency for each location.\n",
    "#Step 13. Downsample the record to a monthly frequency for each location.\n",
    "#Step 14. Downsample the record to a weekly frequency for each location.\n",
    "#Step 15. Calculate the min, max and mean windspeeds and standard deviations of the\n",
    "#windspeeds across all locations for each week (assume that the first week starts on "
   ]
  },
  {
   "cell_type": "code",
   "execution_count": 35,
   "id": "beb2962d",
   "metadata": {},
   "outputs": [
    {
     "name": "stdout",
     "output_type": "stream",
     "text": [
      "order_id\n",
      "quantity\n",
      "item_name\n",
      "choice_description\n",
      "item_price\n"
     ]
    }
   ],
   "source": [
    "#Question 5\n",
    "#Step 1. Import the necessary libraries\n",
    "#Step 2. Import the dataset from this address.\n",
    "#Step 3. Assign it to a variable called chipo.\n",
    "import pandas as pd\n",
    "\n",
    "chipo = pd.read_csv('chiplote.tsv', sep='\\t', header=0)\n",
    "chipo.head()\n",
    "#Step 4. See the first 10 entries\n",
    "chipo.head(10)\n",
    "#Step 5. What is the number of observations in the dataset?\n",
    "len(chipo.index)\n",
    "#Step 6. What is the number of columns in the dataset?\n",
    "len(chipo.columns)\n",
    "#Step 7. Print the name of all the columns.\n",
    "for col in chipo.columns:\n",
    "    print(col)\n",
    "#Step 8. How is the dataset indexed?\n",
    "\n",
    "#Step 9. Which was the most-ordered item?\n",
    "#Step 10. For the most-ordered item, how many items were ordered?\n",
    "#Step 11. What was the most ordered item in the choice_description column?\n",
    "#Step 12. How many items were orderd in total?\n",
    "#Step 13.\n",
    "#• Turn the item price into a float\n",
    "#• Check the item price type\n",
    "#• Create a lambda function and change the type of item price\n",
    "#• Check the item price type\n",
    "#Step 14. How much was the revenue for the period in the dataset?\n",
    "#Step 15. How many orders were made in the period?\n",
    "#Step 16. What is the average revenue amount per order?\n",
    "#Step 17. How many different items are sold?\n"
   ]
  },
  {
   "cell_type": "code",
   "execution_count": 93,
   "id": "cf225c81",
   "metadata": {
    "scrolled": true
   },
   "outputs": [
    {
     "data": {
      "text/plain": [
       "<AxesSubplot:xlabel='Year'>"
      ]
     },
     "execution_count": 93,
     "metadata": {},
     "output_type": "execute_result"
    },
    {
     "data": {
      "image/png": "[encoded data removed]",
      "text/plain": [
       "<Figure size 432x288 with 1 Axes>"
      ]
     },
     "metadata": {
      "needs_background": "light"
     },
     "output_type": "display_data"
    }
   ],
   "source": [
    "#Question 6\n",
    "import pandas as pd\n",
    "import matplotlib.pyplot as pp # import matplolib for basic visuals\n",
    "%matplotlib inline \n",
    "\n",
    "#x = np.linspace(0,10,40)\n",
    "\n",
    "#Create a line plot showing the number of marriages and divorces per capita in the\n",
    "#U.S. between 1867 and 2014. Label both lines and show the legend.\n",
    "#Don't forget to label your axes!\n",
    "\n",
    "\n",
    "\n",
    "data6 = pd.read_csv('us-marriages-divorces-1867-2014.csv')\n",
    "#data6.head()\n",
    "\n",
    "data_index = data6.set_index(['Year'])\n",
    "#axs = data_index.plot.area(figsize=(12, 4), subplots=True)\n",
    "data_index.head()\n",
    "data_index[\"Marriages\"].plot(color='blue')\n",
    "\n",
    "data_index[\"Divorces\"].plot(color='red')\n",
    "\n",
    "#data_index.plot(x=\"Year\",y=[\"Marriages\", \"Divorces\"], kind=\"bar\", figsize=(9, 8))\n",
    "\n",
    "\n"
   ]
  },
  {
   "cell_type": "code",
   "execution_count": 113,
   "id": "821a4852",
   "metadata": {},
   "outputs": [
    {
     "data": {
      "text/plain": [
       "<AxesSubplot:xlabel='Year'>"
      ]
     },
     "execution_count": 113,
     "metadata": {},
     "output_type": "execute_result"
    },
    {
     "data": {
      "image/png": "[encoded data removed]",
      "text/plain": [
       "<Figure size 648x576 with 1 Axes>"
      ]
     },
     "metadata": {
      "needs_background": "light"
     },
     "output_type": "display_data"
    }
   ],
   "source": [
    "#Question 7\n",
    "#Create a vertical bar chart comparing the number of marriages and divorces per\n",
    "#capita in the U.S. between 1900, 1950, and 2000.\n",
    "#Don't forget to label your axes!\n",
    "\n",
    "data7 = pd.read_csv('us-marriages-divorces-1867-2014.csv')\n",
    "\n",
    "data_index = data7.set_index(['Year'])\n",
    "dat=data_index.loc[1950:2000]\n",
    "\n",
    "dat.plot(y=[\"Marriages\", \"Divorces\"],kind=\"bar\", figsize=(9, 8))"
   ]
  },
  {
   "cell_type": "code",
   "execution_count": 121,
   "id": "b5478fcb",
   "metadata": {},
   "outputs": [
    {
     "data": {
      "text/plain": [
       "<AxesSubplot:ylabel='Actor'>"
      ]
     },
     "execution_count": 121,
     "metadata": {},
     "output_type": "execute_result"
    },
    {
     "data": {
      "image/png": "[encoded data removed]",
      "text/plain": [
       "<Figure size 648x576 with 1 Axes>"
      ]
     },
     "metadata": {
      "needs_background": "light"
     },
     "output_type": "display_data"
    }
   ],
   "source": [
    "#Question 8\n",
    "import pandas as pd\n",
    "\n",
    "actors = pd.read_csv('actor_kill_counts.csv')\n",
    "actors.head()\n",
    "#Create a horizontal bar chart that compares the deadliest actors in Hollywood. Sort\n",
    "#the actors by their kill count and label each bar with the corresponding actor's name.\n",
    "#Don't forget to label your axes!\n",
    "\n",
    "\n",
    "data_index_actor = actors.set_index(['Actor'])\n",
    "\n",
    "\n",
    "data_index_actor.plot(y=[\"Count\"],kind=\"barh\", figsize=(9, 8),color=\"Green\")"
   ]
  },
  {
   "cell_type": "code",
   "execution_count": 142,
   "id": "3f40859c",
   "metadata": {},
   "outputs": [
    {
     "data": {
      "text/plain": [
       "<matplotlib.legend.Legend at 0x23690128610>"
      ]
     },
     "execution_count": 142,
     "metadata": {},
     "output_type": "execute_result"
    },
    {
     "data": {
      "image/png": "[encoded data removed]",
      "text/plain": [
       "<Figure size 432x288 with 1 Axes>"
      ]
     },
     "metadata": {},
     "output_type": "display_data"
    }
   ],
   "source": [
    "#Question 9\n",
    "#Create a pie chart showing the fraction of all Roman Emperors that were\n",
    "#assassinated.\n",
    "#Make sure that the pie chart is an even circle, labels the categories, and shows the\n",
    "#percentage breakdown of the categories.\n",
    "import pandas as pd\n",
    "\n",
    "emperor = pd.read_csv('roman-emperor-reigns.csv')\n",
    "emperor.head()\n",
    "ax=emperor.groupby(['Cause_of_Death']).sum().plot(kind='pie', autopct='%1.0f%%',y='Length_of_Reign',startangle=60,legend=True)\n",
    "ax.legend(bbox_to_anchor=(1, 1.40), loc='upper left')\n"
   ]
  },
  {
   "cell_type": "code",
   "execution_count": 152,
   "id": "0e28c86e",
   "metadata": {},
   "outputs": [
    {
     "data": {
      "text/plain": [
       "<AxesSubplot:xlabel='Total Arcade Revenue (billions)', ylabel='[Computer Science Doctorates Awarded (US)]'>"
      ]
     },
     "execution_count": 152,
     "metadata": {},
     "output_type": "execute_result"
    },
    {
     "data": {
      "image/png": "[encoded data removed]",
      "text/plain": [
       "<Figure size 648x576 with 1 Axes>"
      ]
     },
     "metadata": {
      "needs_background": "light"
     },
     "output_type": "display_data"
    }
   ],
   "source": [
    "#Question 10\n",
    "#Create a scatter plot showing the relationship between the total revenue earned by\n",
    "#arcades and the number of Computer Science PhDs awarded in the U.S. between\n",
    "#2000 and 2009.\n",
    "import pandas as pd\n",
    "\n",
    "arcade_revenue = pd.read_csv('arcade-revenue-vs-cs-doctorates.csv')\n",
    "arcade_revenue.head()\n",
    "#ax=arcade_revenue.groupby(['Cause_of_Death']).sum().plot(kind='pie', autopct='%1.0f%%',y='Length_of_Reign',startangle=60,legend=True)\n",
    "#ax.legend(bbox_to_anchor=(1, 1.40), loc='upper left')\n",
    "\n",
    "#data_index_arcade_revenue = arcade_revenue.set_index(['Actor'])\n",
    "\n",
    "\n",
    "arcade_revenue.plot(x=\"Total Arcade Revenue (billions)\",y=[\"Computer Science Doctorates Awarded (US)\"],kind=\"scatter\", figsize=(9, 8),c='cornflowerblue')\n",
    "#arcade_revenue.plot(x=\"Year\",y=[\"Computer Science Doctorates Awarded (US)\"],kind=\"scatter\", figsize=(9, 8),color=\"red\")\n",
    "\n",
    "\n"
   ]
  }
 ],
 "metadata": {
  "kernelspec": {
   "display_name": "Python 3 (ipykernel)",
   "language": "python",
   "name": "python3"
  },
  "language_info": {
   "codemirror_mode": {
    "name": "ipython",
    "version": 3
   },
   "file_extension": ".py",
   "mimetype": "text/x-python",
   "name": "python",
   "nbconvert_exporter": "python",
   "pygments_lexer": "ipython3",
   "version": "3.9.12"
  }
 },
 "nbformat": 4,
 "nbformat_minor": 5
}
